{
 "nbformat": 4,
 "nbformat_minor": 2,
 "metadata": {
  "language_info": {
   "name": "python",
   "codemirror_mode": {
    "name": "ipython",
    "version": 3
   },
   "version": "3.6.4-final"
  },
  "orig_nbformat": 2,
  "file_extension": ".py",
  "mimetype": "text/x-python",
  "name": "python",
  "npconvert_exporter": "python",
  "pygments_lexer": "ipython3",
  "version": 3,
  "kernelspec": {
   "name": "python36432bitbce4508ff6d9483cb1b99acb4dd09e8d",
   "display_name": "Python 3.6.4 32-bit"
  }
 },
 "cells": [
  {
   "cell_type": "markdown",
   "execution_count": null,
   "metadata": {},
   "outputs": [],
   "source": [
    "# Trie example"
   ]
  },
  {
   "cell_type": "code",
   "execution_count": 17,
   "metadata": {},
   "outputs": [],
   "source": [
    "from pprint import pprint as pp\n",
    "_end = '_end_'\n",
    "\n",
    "def make_trie(*words):\n",
    "    root = dict()\n",
    "    for word in words:\n",
    "        current_dict = root\n",
    "        for letter in word:\n",
    "            current_dict = current_dict.setdefault(letter, {})\n",
    "        current_dict[_end] = _end\n",
    "    return root\n",
    "\n",
    "# make_trie('foo', 'bar', 'baz', 'barz')\n",
    "\n",
    "def in_trie(trie, word):\n",
    "    current_dict = trie\n",
    "    prefix = str()\n",
    "    for letter in word:\n",
    "        if letter not in current_dict:\n",
    "            if _end in current_dict:\n",
    "                return print(prefix)\n",
    "            return False\n",
    "        prefix += letter\n",
    "        current_dict = current_dict[letter]\n",
    "    if _end in current_dict:\n",
    "        return print(prefix)\n",
    "    return False"
   ]
  },
  {
   "cell_type": "code",
   "execution_count": 18,
   "metadata": {},
   "outputs": [
    {
     "name": "stdout",
     "output_type": "stream",
     "text": "baz\n"
    }
   ],
   "source": [
    "in_trie(make_trie('foo', 'bar', 'baz', 'barz'), 'baz')"
   ]
  },
  {
   "cell_type": "code",
   "execution_count": 19,
   "metadata": {},
   "outputs": [
    {
     "name": "stdout",
     "output_type": "stream",
     "text": "baz\n"
    }
   ],
   "source": [
    "in_trie(make_trie('foo', 'bar', 'baz', 'barz'), 'baz01')"
   ]
  },
  {
   "cell_type": "code",
   "execution_count": 20,
   "metadata": {},
   "outputs": [
    {
     "data": {
      "text/plain": "False"
     },
     "execution_count": 20,
     "metadata": {},
     "output_type": "execute_result"
    }
   ],
   "source": [
    "in_trie(make_trie('foo', 'bar', 'baz', 'barz'), 'baaaa')"
   ]
  },
  {
   "cell_type": "code",
   "execution_count": 21,
   "metadata": {},
   "outputs": [
    {
     "data": {
      "text/plain": "False"
     },
     "execution_count": 21,
     "metadata": {},
     "output_type": "execute_result"
    }
   ],
   "source": [
    "in_trie(make_trie('foo', 'bar', 'baz', 'barz'), 'ba')"
   ]
  }
 ]
}